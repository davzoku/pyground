{
 "cells": [
  {
   "cell_type": "markdown",
   "metadata": {},
   "source": [
    "## Caesar Cipher\n",
    "\n",
    "A Caesar cipher, also known as shift cipher is one of the simplest and most widely known encryption techniques. \n",
    "It is a type of substitution cipher in which each letter in the plaintext is replaced by a letter some fixed number of positions down the alphabet. For example, with a left shift of 3, D would be replaced by A, E would become B, and so on. \n",
    "\n",
    "![Cipher Table](https://microbit-challenges.readthedocs.io/en/latest/_images/shift.png)\n"
   ]
  },
  {
   "cell_type": "markdown",
   "metadata": {},
   "source": [
    "Insert message to encrypt and shift (0<= S <=26) below.\n",
    "\n",
    "By default, Caesar Cipher does a left shift of 3"
   ]
  },
  {
   "cell_type": "code",
   "execution_count": 72,
   "metadata": {
    "collapsed": true
   },
   "outputs": [],
   "source": [
    "msg = \"The quick brown fox jumps over the lazy dog 123 !@#\"\n",
    "shift = 3\n"
   ]
  },
  {
   "cell_type": "code",
   "execution_count": 73,
   "metadata": {
    "collapsed": false
   },
   "outputs": [],
   "source": [
    "def getmsg():\n",
    "    processedmsg = ''\n",
    "    for x in msg:\n",
    "        if x.isalpha():\n",
    "            num = ord(x)\n",
    "            num += shift\n",
    "        \n",
    "            if x.isupper():\n",
    "                if num > ord('Z'):\n",
    "                    num -= 26\n",
    "                elif num < ord('A'):\n",
    "                    num += 26\n",
    "            elif x.islower():\n",
    "                if num > ord('z'):\n",
    "                    num -= 26\n",
    "                elif num < ord('a'):\n",
    "                    num += 26\n",
    "                \n",
    "            processedmsg += chr(num)\n",
    "        else:\n",
    "            processedmsg += x\n",
    "    return processedmsg"
   ]
  },
  {
   "cell_type": "markdown",
   "metadata": {},
   "source": [
    "The for loop above inspects each letter in the message.\n",
    "\n",
    "chr(), character function takes an integer ordinal and returns a character. ie. chr(65) outputs 'A' based on the ASCII table\n",
    "\n",
    "ord(), ordinal does the reverse. ie ord('A') gives 65.\n",
    "\n",
    "Based on the ASCII Table, 'Z' with a shift of 3 will give us ']', which is undesirable.\n",
    "\n",
    "Thus, we need the if-else statements to perform a \"wraparound\". If num has a value large than the ordinal value of 'Z', subtract 26.\n",
    "\n",
    "If num is less than 'a', add 26.\n",
    "\n",
    "**\"else:\n",
    "    processedmsg += x'**\n",
    "    \n",
    " concatenates any spaces, numbers etc that are not encrypted or decrypted."
   ]
  },
  {
   "cell_type": "code",
   "execution_count": 74,
   "metadata": {
    "collapsed": false
   },
   "outputs": [
    {
     "name": "stdout",
     "output_type": "stream",
     "text": [
      "Wkh txlfn eurzq ira mxpsv ryhu wkh odcb grj 123 !@#\n"
     ]
    }
   ],
   "source": [
    "encrypted=getmsg()\n",
    "print(encrypted)\n"
   ]
  },
  {
   "cell_type": "markdown",
   "metadata": {},
   "source": [
    "Note that only alphabets are encrypted.\n",
    "\n",
    "To decrypt, the algorithm is very similar."
   ]
  },
  {
   "cell_type": "code",
   "execution_count": 75,
   "metadata": {
    "collapsed": false
   },
   "outputs": [
    {
     "name": "stdout",
     "output_type": "stream",
     "text": [
      "The quick brown fox jumps over the lazy dog 123 !@#\n"
     ]
    }
   ],
   "source": [
    "shift=-shift\n",
    "msg=encrypted\n",
    "\n",
    "decrypted= getmsg()\n",
    "print(decrypted)"
   ]
  },
  {
   "cell_type": "markdown",
   "metadata": {},
   "source": [
    "By reversing the polarity of the shift key we can get back the plain text.\n",
    "\n",
    "## References\n",
    "[Invent with Python](http://inventwithpython.com/hacking/)\n",
    "\n",
    "\n"
   ]
  }
 ],
 "metadata": {
  "kernelspec": {
   "display_name": "Python 3",
   "language": "python",
   "name": "python3"
  },
  "language_info": {
   "codemirror_mode": {
    "name": "ipython",
    "version": 3
   },
   "file_extension": ".py",
   "mimetype": "text/x-python",
   "name": "python",
   "nbconvert_exporter": "python",
   "pygments_lexer": "ipython3",
   "version": "3.6.0"
  }
 },
 "nbformat": 4,
 "nbformat_minor": 2
}
