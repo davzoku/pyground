{
 "cells": [
  {
   "cell_type": "markdown",
   "metadata": {},
   "source": [
    "## Reverse Cipher\n",
    "\n",
    "The reverse cipher simply reverses the message.\n",
    "\n",
    "eg. Hello world! --> !dlrow olleH\n"
   ]
  },
  {
   "cell_type": "markdown",
   "metadata": {},
   "source": [
    "Insert message to encrypt."
   ]
  },
  {
   "cell_type": "code",
   "execution_count": 1,
   "metadata": {
    "collapsed": false
   },
   "outputs": [
    {
     "name": "stdout",
     "output_type": "stream",
     "text": [
      "The quick brown fox jumps over the lazy dog 123 !@#\n"
     ]
    }
   ],
   "source": [
    "msg = \"The quick brown fox jumps over the lazy dog 123 !@#\"\n",
    "print(msg)"
   ]
  },
  {
   "cell_type": "code",
   "execution_count": 11,
   "metadata": {
    "collapsed": false
   },
   "outputs": [],
   "source": [
    "def getmsg(msg):\n",
    "    processedmsg = ''\n",
    "    i = len(msg)-1\n",
    "    while i >=0:\n",
    "        processedmsg = processedmsg + msg[i]\n",
    "        i = i-1\n",
    "    return processedmsg\n"
   ]
  },
  {
   "cell_type": "markdown",
   "metadata": {},
   "source": [
    "For n characters in the msg string, the while loop runs for (n-1) times.\n",
    "\n",
    "len(msg) = length of msg"
   ]
  },
  {
   "cell_type": "code",
   "execution_count": 12,
   "metadata": {
    "collapsed": false
   },
   "outputs": [
    {
     "name": "stdout",
     "output_type": "stream",
     "text": [
      "#@! 321 god yzal eht revo spmuj xof nworb kciuq ehT\n"
     ]
    }
   ],
   "source": [
    "encrypted=getmsg(msg)\n",
    "print(encrypted)"
   ]
  },
  {
   "cell_type": "markdown",
   "metadata": {},
   "source": [
    "Note that only alphabets are encrypted.\n",
    "\n",
    "To decrypt, the algorithm is very similar."
   ]
  },
  {
   "cell_type": "code",
   "execution_count": 8,
   "metadata": {
    "collapsed": false
   },
   "outputs": [
    {
     "name": "stdout",
     "output_type": "stream",
     "text": [
      "The quick brown fox jumps over the lazy dog 123 !@#\n"
     ]
    }
   ],
   "source": [
    "decrypted= getmsg(encrypted)\n",
    "print(decrypted)"
   ]
  },
  {
   "cell_type": "markdown",
   "metadata": {},
   "source": [
    "By running the function again, we can get back the plain text.\n",
    "\n",
    "## References\n",
    "[Invent with Python](http://inventwithpython.com/hacking/)\n",
    "\n",
    "\n"
   ]
  }
 ],
 "metadata": {
  "kernelspec": {
   "display_name": "Python 3",
   "language": "python",
   "name": "python3"
  },
  "language_info": {
   "codemirror_mode": {
    "name": "ipython",
    "version": 3
   },
   "file_extension": ".py",
   "mimetype": "text/x-python",
   "name": "python",
   "nbconvert_exporter": "python",
   "pygments_lexer": "ipython3",
   "version": "3.6.0"
  }
 },
 "nbformat": 4,
 "nbformat_minor": 2
}
