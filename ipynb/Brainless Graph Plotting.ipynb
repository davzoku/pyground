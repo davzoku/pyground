{
 "cells": [
  {
   "cell_type": "markdown",
   "metadata": {},
   "source": [
    "## Brainless Graph Plotting\n",
    "\n",
    "1. Plot Quadratic Function\n",
    "* Find X, Y intercepts\n",
    "\n",
    "2. Plot Sin, Cos, Tan curves\n",
    "\n",
    "3. Plot Log, ln curves\n",
    "\n",
    "Radar Chart\n",
    "\n",
    "Smith Chart\n",
    "\n",
    "y=4x^3+5x^2-12x+10"
   ]
  },
  {
   "cell_type": "code",
   "execution_count": 44,
   "metadata": {
    "collapsed": false
   },
   "outputs": [
    {
     "data": {
      "image/png": "[encoded data removed]",
      "text/plain": [
       "<matplotlib.figure.Figure at 0x219c897e748>"
      ]
     },
     "metadata": {},
     "output_type": "display_data"
    },
    {
     "name": "stdout",
     "output_type": "stream",
     "text": [
      "30.8\n",
      "56.6\n",
      "0.0 10.0\n",
      "XAxis(54.000000,36.000000)\n",
      "YAxis(54.000000,36.000000)\n"
     ]
    }
   ],
   "source": [
    "import numpy as np\n",
    "import matplotlib.pyplot as plt\n",
    "#t = np.arange(0.0, 2.0, 0.01)\n",
    "#numpy.arange([start, ]stop, [step, ]dtype=None)\n",
    "x= np.arange(-5.0,5.0,1.0)\n",
    "y= 4*np.power(x,3)+5*np.power(x,2)+10\n",
    "#y=x+5\n",
    "#s = np.sin(2*np.pi*t)\n",
    "\n",
    "#plt.plot(x,y)\n",
    "fig, ax = plt.subplots()\n",
    "ax.plot(x, y)\n",
    "plt.title('Quadratic', fontsize=20)\n",
    "\n",
    "\n",
    "ax.grid(True, linestyle='-')\n",
    "\n",
    "plt.xlabel('x')\n",
    "plt.ylabel('y')\n",
    "plt.show()\n",
    "\n",
    "slope, intercept = np.polyfit(x, y, 1)\n",
    "\n",
    "print(intercept)\n",
    "print(slope)\n",
    "\n",
    "\n",
    "for x, y in zip(x, y):\n",
    "    if x == 0 or y == 0:\n",
    "        print(x, y)\n",
    "        \n",
    "print(ax.get_xaxis())\n",
    "print(ax.get_yaxis())"
   ]
  },
  {
   "cell_type": "code",
   "execution_count": null,
   "metadata": {
    "collapsed": true
   },
   "outputs": [],
   "source": []
  },
  {
   "cell_type": "code",
   "execution_count": null,
   "metadata": {
    "collapsed": true
   },
   "outputs": [],
   "source": []
  }
 ],
 "metadata": {
  "kernelspec": {
   "display_name": "Python 3",
   "language": "python",
   "name": "python3"
  },
  "language_info": {
   "codemirror_mode": {
    "name": "ipython",
    "version": 3
   },
   "file_extension": ".py",
   "mimetype": "text/x-python",
   "name": "python",
   "nbconvert_exporter": "python",
   "pygments_lexer": "ipython3",
   "version": "3.6.0"
  }
 },
 "nbformat": 4,
 "nbformat_minor": 2
}
